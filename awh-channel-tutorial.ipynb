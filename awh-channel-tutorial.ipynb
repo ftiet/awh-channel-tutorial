{
 "cells": [
  {
   "cell_type": "markdown",
   "metadata": {},
   "source": [
    "# AWH Simulation\n",
    "\n",
    "This simulation involves pulling a single solvated ionic liquid away from a graphene surface in an 8 nm channel. PMF (potential of mean force) can be calculated using AWH (accelerated weight histogram method) in GROMACS. "
   ]
  },
  {
   "cell_type": "markdown",
   "metadata": {},
   "source": [
    "## Building the system"
   ]
  },
  {
   "cell_type": "code",
   "execution_count": null,
   "metadata": {},
   "outputs": [],
   "source": [
    "import mbuild as mb\n",
    "import mdtraj as md\n",
    "from foyer import Forcefield \n",
    "import numpy as np\n",
    "import parmed as pmd"
   ]
  },
  {
   "cell_type": "code",
   "execution_count": null,
   "metadata": {},
   "outputs": [],
   "source": [
    "\"\"\"\n",
    "Specify files and inputs\n",
    "\"\"\"\n",
    "\n",
    "il_file = 'utils/emim_tf2n.gro'\n",
    "il_ff = 'utils/kpl.xml'\n",
    "solv_file = 'utils/pc.mol2'\n",
    "graphene_file = 'utils/carbon.pdb'\n",
    "graphene_ff = 'utils/graphene.xml'\n",
    "data_path = 'data/'\n",
    "\n",
    "# 1300 ACN, 800 PC, 950 DMSO, 750 DCM\n",
    "num_solv = 800"
   ]
  },
  {
   "cell_type": "code",
   "execution_count": null,
   "metadata": {},
   "outputs": [],
   "source": [
    "\"\"\"\n",
    "Load files and fix coordinates\n",
    "\"\"\"\n",
    "\n",
    "il_pair = mb.load(il_file, use_parmed=True)\n",
    "il_pair.xyz -= np.min(il_pair.xyz, axis=0)\n",
    "il_pair.name = 'IL'\n",
    "\n",
    "solv = mb.load(solv_file)\n",
    "solv.xyz -= np.min(solv.xyz, axis=0)\n",
    "solv.name = 'SOL'\n",
    "\n",
    "graphene = mb.load(graphene_file)"
   ]
  },
  {
   "cell_type": "code",
   "execution_count": null,
   "metadata": {},
   "outputs": [],
   "source": [
    "\"\"\"\n",
    "Setup boxes for building the system\n",
    "\"\"\"\n",
    "\n",
    "il_mins = list([0.6, 0.6, 7.0])\n",
    "il_maxs= list([3.5, 3.3, 8.2])\n",
    "il_box = mb.Box(mins=il_mins,maxs=il_maxs)\n",
    "\n",
    "coords=list(graphene.periodicity)\n",
    "\n",
    "fluid_box = mb.Box(list(graphene.periodicity))\n",
    "fluid_box.mins[-1] += 1.0\n",
    "fluid_box.maxs[-1] = fluid_box.mins[-1] + 7.6\n",
    "for i in range(2):\n",
    "    fluid_box.mins[i] += 0.2\n",
    "    if i==0:\n",
    "        fluid_box.maxs[i] = fluid_box.mins[i] + 3.9\n",
    "    else:\n",
    "        fluid_box.maxs[i] = fluid_box.mins[i] + 3.5"
   ]
  },
  {
   "cell_type": "code",
   "execution_count": null,
   "metadata": {},
   "outputs": [],
   "source": [
    "\"\"\"\n",
    "Build the system\n",
    "\"\"\"\n",
    "\n",
    "fluid = mb.fill_region(compound=[il_pair,solv],n_compounds=[1,num_solv],region=[il_box,fluid_box])\n",
    "\n",
    "il = mb.Compound()\n",
    "solvent = mb.Compound()\n",
    "for child in fluid.children:\n",
    "    if child.name in ['IL', 'il']:\n",
    "        il.add(mb.clone(child))\n",
    "    else:\n",
    "        solvent.add(mb.clone(child))\n",
    "        \n",
    "il.name = 'il'\n",
    "solvent.name = 'sol'"
   ]
  },
  {
   "cell_type": "code",
   "execution_count": null,
   "metadata": {},
   "outputs": [],
   "source": [
    "\"\"\"\n",
    "Apply forcefields and save\n",
    "\"\"\"\n",
    "\n",
    "KPL = Forcefield(il_ff)\n",
    "OPLSAA = Forcefield(name='oplsaa')\n",
    "GRAPHENE = Forcefield(graphene_ff)\n",
    "\n",
    "walls = mb.clone(graphene)\n",
    "il_structure = KPL.apply(il.to_parmed(residues=['IL']))\n",
    "solv_structure = OPLSAA.apply(solvent.to_parmed(residues=['SOL']),assert_angle_params=False,assert_dihedral_params=False)\n",
    "\n",
    "new_system = GRAPHENE.apply(walls) + il_structure + solv_structure\n",
    "\n",
    "new_system.save('system.gro', overwrite=True, combine='all')\n",
    "new_system.save('system.top', overwrite=True, combine='all')"
   ]
  },
  {
   "cell_type": "code",
   "execution_count": null,
   "metadata": {},
   "outputs": [],
   "source": [
    "\"\"\"\n",
    "IL channel (no solvent)\n",
    "Requires manually adding cation and anion indices to index file\n",
    "\"\"\"\n",
    "# from ilforcefields.utils.utils import get_il\n",
    "\n",
    "# cation = ['emim']\n",
    "# anion = ['tf2n']\n",
    "# cat = get_il('emim')\n",
    "# an = get_il('tf2n')\n",
    "# il_pair = [cat,an]\n",
    "\n",
    "# fluid = mb.fill_box(compound=il_pair,n_compounds=[280,280],box=fluid_box)\n",
    "\n",
    "# GRAPHENE = Forcefield('graphene.xml')\n",
    "# KPL = get_ff('kpl')\n",
    "\n",
    "# system = GRAPHENE.apply(wall1) + KPL.apply(fluid.to_parmed(residues=cation+anion))\n",
    "# system.save('system.gro', overwrite=True, combine='all')\n",
    "# system.save('system.top', overwrite=True, combine='all')"
   ]
  },
  {
   "cell_type": "markdown",
   "metadata": {},
   "source": [
    "## Index files\n",
    "\n",
    "Now we need to set up an index file with the proper groups for running the awh simulation\n"
   ]
  },
  {
   "cell_type": "code",
   "execution_count": null,
   "metadata": {},
   "outputs": [],
   "source": [
    "# create a group containing the il and solv\n",
    "!(echo \"rIL|rSOL\" && echo \"q\") | gmx_mpi make_ndx -f system.gro -o system.ndx\n",
    "\n",
    "# add groups for the cation, the anion, and the surface to pull away from\n",
    "!cat utils/il_indices.txt >> system.ndx\n",
    "!cat utils/surf_indices.txt >> system.ndx"
   ]
  },
  {
   "cell_type": "markdown",
   "metadata": {},
   "source": [
    "## Run the simulation"
   ]
  },
  {
   "cell_type": "code",
   "execution_count": null,
   "metadata": {},
   "outputs": [],
   "source": [
    "\"\"\"\n",
    "Energy minimization\n",
    "\"\"\"\n",
    "!gmx_mpi grompp -f utils/em.mdp -c system.gro -p system.top -n system.ndx -o em.tpr\n",
    "!gmx_mpi mdrun -v -deffnm em"
   ]
  },
  {
   "cell_type": "code",
   "execution_count": null,
   "metadata": {},
   "outputs": [],
   "source": [
    "\"\"\"\n",
    "Equilibration and awh simulation (sample pbs file included in utils)\n",
    "Requires an itp file for position restraints in the same directory as top file\n",
    "\"\"\"\n",
    "!cat utils/run.pbs"
   ]
  },
  {
   "cell_type": "markdown",
   "metadata": {},
   "source": [
    "## Analysis\n",
    "\n",
    "Analysis can be done using `gmx awh`. Output files from the awh simulation should be contained in the directory specified by `data_path`.\n",
    "\n",
    "Modified from https://github.com/vivecalindahl/awh-tutorial"
   ]
  },
  {
   "cell_type": "code",
   "execution_count": null,
   "metadata": {},
   "outputs": [],
   "source": [
    "import matplotlib.pyplot as plt\n",
    "import re"
   ]
  },
  {
   "cell_type": "code",
   "execution_count": null,
   "metadata": {},
   "outputs": [],
   "source": [
    "!mkdir -p $data_path/awh-data-skip\n",
    "!gmx_mpi awh -skip 100 -quiet -s $data_path/awh.tpr -f $data_path/awh.edr -more -kt -o $data_path/awh-data-skip/awh.xvg"
   ]
  },
  {
   "cell_type": "code",
   "execution_count": null,
   "metadata": {},
   "outputs": [],
   "source": [
    "# Plot PMFs from AWH xvg files\n",
    "\n",
    "# A list of all AWH files\n",
    "fnames = !ls $data_path/awh-data-skip/\n",
    "\n",
    "# Extract time of each file\n",
    "times = [float(re.findall('awh_t(.+?).xvg', fname)[0]) for fname in fnames]\n",
    "\n",
    "# Sort the files chronologically\n",
    "fnames = [f for (t,f) in sorted(zip(times, fnames))]\n",
    "times.sort()\n",
    "print(\"Number of files: \" + str(len(fnames)))\n",
    "print(\"Time in between files: \" + str(times[1] - times[0]) + 'ps')\n",
    "print(\"Last time: \" + str(times[-1]) + 'ps')"
   ]
  },
  {
   "cell_type": "code",
   "execution_count": null,
   "metadata": {},
   "outputs": [],
   "source": [
    "# Plot the PMF from first files/times\n",
    "labels=[]\n",
    "istart = 20 # Start plotting this file index\n",
    "nplot = 10  # Number of files to plot\n",
    "for fname in fnames[istart:istart+nplot]:\n",
    "    data=read_xvg('{}/awh-data-skip/{}'.format(data_path, fname))\n",
    "    labels.append(re.findall('awh_t(.+?).xvg', fname)[0] + ' ps') # use the time as label\n",
    "    plt.plot(data[:,0], data[:,1])\n",
    "    \n",
    "plt.xlabel('distance (nm)')\n",
    "plt.ylabel('PMF (kT)')\n",
    "plt.ylim([0,15])\n",
    "plt.legend(labels)\n",
    "\n",
    "# fig.savefig('pmf.pdf')"
   ]
  }
 ],
 "metadata": {
  "kernelspec": {
   "display_name": "Python 3",
   "language": "python",
   "name": "python3"
  },
  "language_info": {
   "codemirror_mode": {
    "name": "ipython",
    "version": 3
   },
   "file_extension": ".py",
   "mimetype": "text/x-python",
   "name": "python",
   "nbconvert_exporter": "python",
   "pygments_lexer": "ipython3",
   "version": "3.5.5"
  }
 },
 "nbformat": 4,
 "nbformat_minor": 2
}
